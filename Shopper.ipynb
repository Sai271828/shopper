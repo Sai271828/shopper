{
 "cells": [
  {
   "cell_type": "code",
   "execution_count": 1,
   "id": "202eb59f",
   "metadata": {},
   "outputs": [],
   "source": [
    "import pandas as pd\n",
    "import os\n",
    "import openai\n",
    "from dotenv import load_dotenv\n",
    "import json\n",
    "import difflib"
   ]
  },
  {
   "cell_type": "markdown",
   "id": "ea430f26",
   "metadata": {},
   "source": [
    "## Importing new recipes"
   ]
  },
  {
   "cell_type": "markdown",
   "id": "603e988b",
   "metadata": {},
   "source": [
    "Once you add a new recipe here, you also need to update the full recipe list below."
   ]
  },
  {
   "cell_type": "code",
   "execution_count": 2,
   "id": "c5c8fea7",
   "metadata": {},
   "outputs": [],
   "source": [
    "#Copy the recipe here\n",
    "raw_recipe = f\"\"\"\n",
    "Ingredients of Paneer Butter MasalaFor frying Paneer:1 tbsp Oil1 cup Paneer cubes1/2 tsp Salt2 tsp Red chilli powderFor gravy:1/2 tbsp Oil2 cubes Butter1 Black cardamom1 Cinnamon stick5 Green cardamom1 tsp Ginger1 tsp Garlic1/2 cup Onion, chopped1 cup Tomato, chopped7-8 nos Cashews1/4 tsp Green chilli, chopped1/2 tsp Oil2 cubes Butter2 tsp Salt1 tsp Red chilli powder1/2 tsp Coriander powder1/2 tsp Cumin powder1/4 tsp Garam masala1/4 tsp Black pepper1/2 tsp Kasoori methi1/2 tsp Honey3/4 cup Milk1 tbsp Cream1/2 tsp Cardamom powder\n",
    "\"\"\"\n"
   ]
  },
  {
   "cell_type": "code",
   "execution_count": 3,
   "id": "d39b0ab2",
   "metadata": {},
   "outputs": [],
   "source": [
    "#Intitializing variables\n",
    "load_dotenv() \n",
    "ENV_PATH = \"./.env\" \n",
    "openai.api_key = os.getenv('api_key')\n"
   ]
  },
  {
   "cell_type": "code",
   "execution_count": 4,
   "id": "88701c16",
   "metadata": {},
   "outputs": [],
   "source": [
    "def get_completion(prompt, model=\"gpt-3.5-turbo\"):\n",
    "    messages = [{\"role\": \"user\", \"content\": prompt}]\n",
    "    response = openai.ChatCompletion.create(\n",
    "        model=model,\n",
    "        messages=messages,\n",
    "        temperature=0, # this is the degree of randomness of the model's output\n",
    "    )\n",
    "    return response.choices[0].message[\"content\"]\n"
   ]
  },
  {
   "cell_type": "code",
   "execution_count": 5,
   "id": "857f2baa",
   "metadata": {},
   "outputs": [],
   "source": [
    "def recipe_json(text):\n",
    "    prompt = f\"\"\"\n",
    "    For the recipe enclosed in the triple back ticks output a python list\n",
    "    containing the name of the recipe(consist of letters and spaces only. No special characters) as the first entry and a dictionary as the second entry with the following conditions:\n",
    "    1. The keys should be item names and values the quantity.\n",
    "    2. If there is no quantity listed give the  default value as 1.\n",
    "    3. The value should just be a number. There should be no unit of measurement.\n",
    "    4. Weight should be measured in kg. For example, 500 gram should be made to be 0.5 .\n",
    "    5. Volume should always be in liters. For example, 150 ml should be made to .15.\n",
    "    ```{text}```\n",
    "    \"\"\"\n",
    "    response = get_completion(prompt)\n",
    "    name_end=0\n",
    "    recipe_start=0\n",
    "    for i in range(2, len(response)):\n",
    "        if response[i]==\"'\":\n",
    "            name_end=i\n",
    "        if response[i]==\"{\":\n",
    "            recipe_start=i\n",
    "            break\n",
    "    json_acceptable_string = response[recipe_start:-1].replace(\"'\", \"\\\"\")\n",
    "    recipe = json.loads(json_acceptable_string)\n",
    "    recipe_name= response[2:name_end]\n",
    "    return recipe_name,recipe"
   ]
  },
  {
   "cell_type": "markdown",
   "id": "04ce0e66",
   "metadata": {},
   "source": [
    "## For debugging purposes"
   ]
  },
  {
   "cell_type": "code",
   "execution_count": 14,
   "id": "eaeeab55",
   "metadata": {},
   "outputs": [],
   "source": [
    "prompt = f\"\"\"\n",
    "    For the recipe enclosed in the triple back ticks output a python list\n",
    "    containing the name of the recipe(consist of letters and spaces only. No special characters) as the first entry and a dictionary as the second entry \n",
    "    where the keys should be item names and values the quantity.\n",
    "    To calulate the quantity for each item follow the following algorithm:\n",
    "    Step 1. If weight is in grams convert it to kg. For example, 500 gram should be made to be 0.5 kg.\n",
    "    Step 2. If quantity is in ml convert to liters. For example, 150 ml should be made to .15 l.\n",
    "    Step 3. Cups should be converted to liters. 1 cup tomatoes should be listed as \"tomatoes\": 0.25.\n",
    "    Step 4. Set the quantity to be just a number. There should be no unit of measurement.\n",
    "    Step 5. The value should be absolute. If there is a range indicated then pick the lower value of the range.\n",
    "    Step 6. If there is no quantity listed give the  default value as 1.\n",
    "    ```{raw_recipe}```\n",
    "    \"\"\"\n",
    "response = get_completion(prompt)"
   ]
  },
  {
   "cell_type": "code",
   "execution_count": 15,
   "id": "d984cb59",
   "metadata": {},
   "outputs": [
    {
     "data": {
      "text/plain": [
       "\"['Paneer Butter Masala', {'Oil': 1, 'Paneer cubes': 0.5, 'Salt': 0.5, 'Red chilli powder': 2, 'Butter': 2, 'Black cardamom': 1, 'Cinnamon stick': 1, 'Green cardamom': 5, 'Ginger': 1, 'Garlic': 1, 'Onion, chopped': 0.5, 'Tomato, chopped': 1, 'Cashews': 7, 'Green chilli, chopped': 0.25, 'Coriander powder': 0.5, 'Cumin powder': 0.5, 'Garam masala': 0.25, 'Black pepper': 0.25, 'Kasoori methi': 0.25, 'Honey': 0.5, 'Milk': 0.75, 'Cream': 1, 'Cardamom powder': 0.5}]\""
      ]
     },
     "execution_count": 15,
     "metadata": {},
     "output_type": "execute_result"
    }
   ],
   "source": [
    "response"
   ]
  },
  {
   "cell_type": "code",
   "execution_count": 48,
   "id": "9bc245cc",
   "metadata": {},
   "outputs": [],
   "source": [
    "name_end=0\n",
    "recipe_start=0\n",
    "for i in range(2, len(response)):\n",
    "    if response[i]==\"'\":\n",
    "        name_end=i\n",
    "    if response[i]==\"{\":\n",
    "        recipe_start=i\n",
    "        break\n",
    "json_acceptable_string = response[recipe_start:-1].replace(\"'\", \"\\\"\")\n",
    "recipe = json.loads(json_acceptable_string)\n",
    "recipe_name= response[2:name_end-1]"
   ]
  },
  {
   "cell_type": "code",
   "execution_count": 49,
   "id": "d4d4fd75",
   "metadata": {},
   "outputs": [
    {
     "name": "stdout",
     "output_type": "stream",
     "text": [
      "{'Oil': 0.5, 'Paneer cubes': 1, 'Salt': 0.5, 'Red chilli powder': 2, 'Butter': 2, 'Black cardamom': 1, 'Cinnamon stick': 1, 'Green cardamom': 5, 'Ginger': 1, 'Garlic': 1, 'Onion, chopped': 0.5, 'Tomato, chopped': 1, 'Cashews': 7, 'Green chilli, chopped': 0.25, 'Coriander powder': 0.5, 'Cumin powder': 0.5, 'Garam masala': 0.25, 'Black pepper': 0.25, 'Kasoori methi': 0.5, 'Honey': 0.5, 'Milk': 0.75, 'Cream': 1, 'Cardamom powder': 0.5} Paneer Butter Masal\n"
     ]
    }
   ],
   "source": [
    "print(recipe,recipe_name)"
   ]
  },
  {
   "cell_type": "markdown",
   "id": "6a4a93fe",
   "metadata": {},
   "source": [
    "# Back to adding new recipe"
   ]
  },
  {
   "cell_type": "code",
   "execution_count": 33,
   "id": "151516c7",
   "metadata": {},
   "outputs": [
    {
     "ename": "JSONDecodeError",
     "evalue": "Expecting ',' delimiter: line 1 column 228 (char 227)",
     "output_type": "error",
     "traceback": [
      "\u001b[1;31m---------------------------------------------------------------------------\u001b[0m",
      "\u001b[1;31mJSONDecodeError\u001b[0m                           Traceback (most recent call last)",
      "\u001b[1;32m~\\AppData\\Local\\Temp\\ipykernel_13656\\3194051192.py\u001b[0m in \u001b[0;36m<module>\u001b[1;34m\u001b[0m\n\u001b[1;32m----> 1\u001b[1;33m \u001b[0mrecipe_name\u001b[0m\u001b[1;33m,\u001b[0m\u001b[0mrecipe\u001b[0m\u001b[1;33m=\u001b[0m \u001b[0mrecipe_json\u001b[0m\u001b[1;33m(\u001b[0m\u001b[0mraw_recipe\u001b[0m\u001b[1;33m)\u001b[0m\u001b[1;33m\u001b[0m\u001b[1;33m\u001b[0m\u001b[0m\n\u001b[0m",
      "\u001b[1;32m~\\AppData\\Local\\Temp\\ipykernel_13656\\3571425935.py\u001b[0m in \u001b[0;36mrecipe_json\u001b[1;34m(text)\u001b[0m\n\u001b[0;32m     15\u001b[0m             \u001b[1;32mbreak\u001b[0m\u001b[1;33m\u001b[0m\u001b[1;33m\u001b[0m\u001b[0m\n\u001b[0;32m     16\u001b[0m     \u001b[0mjson_acceptable_string\u001b[0m \u001b[1;33m=\u001b[0m \u001b[0mresponse\u001b[0m\u001b[1;33m[\u001b[0m\u001b[0mi\u001b[0m\u001b[1;33m+\u001b[0m\u001b[1;36m1\u001b[0m\u001b[1;33m:\u001b[0m\u001b[1;33m-\u001b[0m\u001b[1;36m1\u001b[0m\u001b[1;33m]\u001b[0m\u001b[1;33m.\u001b[0m\u001b[0mreplace\u001b[0m\u001b[1;33m(\u001b[0m\u001b[1;34m\"'\"\u001b[0m\u001b[1;33m,\u001b[0m \u001b[1;34m\"\\\"\"\u001b[0m\u001b[1;33m)\u001b[0m\u001b[1;33m\u001b[0m\u001b[1;33m\u001b[0m\u001b[0m\n\u001b[1;32m---> 17\u001b[1;33m     \u001b[0mrecipe\u001b[0m \u001b[1;33m=\u001b[0m \u001b[0mjson\u001b[0m\u001b[1;33m.\u001b[0m\u001b[0mloads\u001b[0m\u001b[1;33m(\u001b[0m\u001b[0mjson_acceptable_string\u001b[0m\u001b[1;33m)\u001b[0m\u001b[1;33m\u001b[0m\u001b[1;33m\u001b[0m\u001b[0m\n\u001b[0m\u001b[0;32m     18\u001b[0m     \u001b[0mrecipe_name\u001b[0m\u001b[1;33m=\u001b[0m \u001b[0mresponse\u001b[0m\u001b[1;33m[\u001b[0m\u001b[1;36m2\u001b[0m\u001b[1;33m:\u001b[0m\u001b[0mi\u001b[0m\u001b[1;33m-\u001b[0m\u001b[1;36m1\u001b[0m\u001b[1;33m]\u001b[0m\u001b[1;33m\u001b[0m\u001b[1;33m\u001b[0m\u001b[0m\n\u001b[0;32m     19\u001b[0m     \u001b[1;32mreturn\u001b[0m \u001b[0mrecipe_name\u001b[0m\u001b[1;33m,\u001b[0m\u001b[0mrecipe\u001b[0m\u001b[1;33m\u001b[0m\u001b[1;33m\u001b[0m\u001b[0m\n",
      "\u001b[1;32m~\\anaconda3\\lib\\json\\__init__.py\u001b[0m in \u001b[0;36mloads\u001b[1;34m(s, cls, object_hook, parse_float, parse_int, parse_constant, object_pairs_hook, **kw)\u001b[0m\n\u001b[0;32m    344\u001b[0m             \u001b[0mparse_int\u001b[0m \u001b[1;32mis\u001b[0m \u001b[1;32mNone\u001b[0m \u001b[1;32mand\u001b[0m \u001b[0mparse_float\u001b[0m \u001b[1;32mis\u001b[0m \u001b[1;32mNone\u001b[0m \u001b[1;32mand\u001b[0m\u001b[1;33m\u001b[0m\u001b[1;33m\u001b[0m\u001b[0m\n\u001b[0;32m    345\u001b[0m             parse_constant is None and object_pairs_hook is None and not kw):\n\u001b[1;32m--> 346\u001b[1;33m         \u001b[1;32mreturn\u001b[0m \u001b[0m_default_decoder\u001b[0m\u001b[1;33m.\u001b[0m\u001b[0mdecode\u001b[0m\u001b[1;33m(\u001b[0m\u001b[0ms\u001b[0m\u001b[1;33m)\u001b[0m\u001b[1;33m\u001b[0m\u001b[1;33m\u001b[0m\u001b[0m\n\u001b[0m\u001b[0;32m    347\u001b[0m     \u001b[1;32mif\u001b[0m \u001b[0mcls\u001b[0m \u001b[1;32mis\u001b[0m \u001b[1;32mNone\u001b[0m\u001b[1;33m:\u001b[0m\u001b[1;33m\u001b[0m\u001b[1;33m\u001b[0m\u001b[0m\n\u001b[0;32m    348\u001b[0m         \u001b[0mcls\u001b[0m \u001b[1;33m=\u001b[0m \u001b[0mJSONDecoder\u001b[0m\u001b[1;33m\u001b[0m\u001b[1;33m\u001b[0m\u001b[0m\n",
      "\u001b[1;32m~\\anaconda3\\lib\\json\\decoder.py\u001b[0m in \u001b[0;36mdecode\u001b[1;34m(self, s, _w)\u001b[0m\n\u001b[0;32m    335\u001b[0m \u001b[1;33m\u001b[0m\u001b[0m\n\u001b[0;32m    336\u001b[0m         \"\"\"\n\u001b[1;32m--> 337\u001b[1;33m         \u001b[0mobj\u001b[0m\u001b[1;33m,\u001b[0m \u001b[0mend\u001b[0m \u001b[1;33m=\u001b[0m \u001b[0mself\u001b[0m\u001b[1;33m.\u001b[0m\u001b[0mraw_decode\u001b[0m\u001b[1;33m(\u001b[0m\u001b[0ms\u001b[0m\u001b[1;33m,\u001b[0m \u001b[0midx\u001b[0m\u001b[1;33m=\u001b[0m\u001b[0m_w\u001b[0m\u001b[1;33m(\u001b[0m\u001b[0ms\u001b[0m\u001b[1;33m,\u001b[0m \u001b[1;36m0\u001b[0m\u001b[1;33m)\u001b[0m\u001b[1;33m.\u001b[0m\u001b[0mend\u001b[0m\u001b[1;33m(\u001b[0m\u001b[1;33m)\u001b[0m\u001b[1;33m)\u001b[0m\u001b[1;33m\u001b[0m\u001b[1;33m\u001b[0m\u001b[0m\n\u001b[0m\u001b[0;32m    338\u001b[0m         \u001b[0mend\u001b[0m \u001b[1;33m=\u001b[0m \u001b[0m_w\u001b[0m\u001b[1;33m(\u001b[0m\u001b[0ms\u001b[0m\u001b[1;33m,\u001b[0m \u001b[0mend\u001b[0m\u001b[1;33m)\u001b[0m\u001b[1;33m.\u001b[0m\u001b[0mend\u001b[0m\u001b[1;33m(\u001b[0m\u001b[1;33m)\u001b[0m\u001b[1;33m\u001b[0m\u001b[1;33m\u001b[0m\u001b[0m\n\u001b[0;32m    339\u001b[0m         \u001b[1;32mif\u001b[0m \u001b[0mend\u001b[0m \u001b[1;33m!=\u001b[0m \u001b[0mlen\u001b[0m\u001b[1;33m(\u001b[0m\u001b[0ms\u001b[0m\u001b[1;33m)\u001b[0m\u001b[1;33m:\u001b[0m\u001b[1;33m\u001b[0m\u001b[1;33m\u001b[0m\u001b[0m\n",
      "\u001b[1;32m~\\anaconda3\\lib\\json\\decoder.py\u001b[0m in \u001b[0;36mraw_decode\u001b[1;34m(self, s, idx)\u001b[0m\n\u001b[0;32m    351\u001b[0m         \"\"\"\n\u001b[0;32m    352\u001b[0m         \u001b[1;32mtry\u001b[0m\u001b[1;33m:\u001b[0m\u001b[1;33m\u001b[0m\u001b[1;33m\u001b[0m\u001b[0m\n\u001b[1;32m--> 353\u001b[1;33m             \u001b[0mobj\u001b[0m\u001b[1;33m,\u001b[0m \u001b[0mend\u001b[0m \u001b[1;33m=\u001b[0m \u001b[0mself\u001b[0m\u001b[1;33m.\u001b[0m\u001b[0mscan_once\u001b[0m\u001b[1;33m(\u001b[0m\u001b[0ms\u001b[0m\u001b[1;33m,\u001b[0m \u001b[0midx\u001b[0m\u001b[1;33m)\u001b[0m\u001b[1;33m\u001b[0m\u001b[1;33m\u001b[0m\u001b[0m\n\u001b[0m\u001b[0;32m    354\u001b[0m         \u001b[1;32mexcept\u001b[0m \u001b[0mStopIteration\u001b[0m \u001b[1;32mas\u001b[0m \u001b[0merr\u001b[0m\u001b[1;33m:\u001b[0m\u001b[1;33m\u001b[0m\u001b[1;33m\u001b[0m\u001b[0m\n\u001b[0;32m    355\u001b[0m             \u001b[1;32mraise\u001b[0m \u001b[0mJSONDecodeError\u001b[0m\u001b[1;33m(\u001b[0m\u001b[1;34m\"Expecting value\"\u001b[0m\u001b[1;33m,\u001b[0m \u001b[0ms\u001b[0m\u001b[1;33m,\u001b[0m \u001b[0merr\u001b[0m\u001b[1;33m.\u001b[0m\u001b[0mvalue\u001b[0m\u001b[1;33m)\u001b[0m \u001b[1;32mfrom\u001b[0m \u001b[1;32mNone\u001b[0m\u001b[1;33m\u001b[0m\u001b[1;33m\u001b[0m\u001b[0m\n",
      "\u001b[1;31mJSONDecodeError\u001b[0m: Expecting ',' delimiter: line 1 column 228 (char 227)"
     ]
    }
   ],
   "source": [
    "recipe_name,recipe= recipe_json(raw_recipe)"
   ]
  },
  {
   "cell_type": "code",
   "execution_count": 15,
   "id": "7a3bf7fb",
   "metadata": {},
   "outputs": [
    {
     "name": "stdout",
     "output_type": "stream",
     "text": [
      "Greek stuffed vegetables - Gemista {'baby potatoes': 0.5, 'olive oil': 2, 'salt': 1, 'pepper': 1, 'onions': 3, 'tomatoes': 6, 'green bell peppers': 3, 'round grain rice': 0.35, 'water': 0.4, 'vegetable bouillon cube': 1, 'garlic': 2, 'tomato paste': 1, 'zucchini': 1, 'carrot': 1, 'granulated sugar': 1, 'parsley': 1, 'mint': 1, 'dill': 0.33}\n"
     ]
    }
   ],
   "source": [
    "print(recipe_name,recipe)"
   ]
  },
  {
   "cell_type": "code",
   "execution_count": 17,
   "id": "afe4d854",
   "metadata": {},
   "outputs": [
    {
     "name": "stdout",
     "output_type": "stream",
     "text": [
      "JSON file 'greek_stuffed_vegetables_-_gemista.json' created successfully!\n"
     ]
    }
   ],
   "source": [
    "recipe_name= recipe_name.lower().replace(' ', '_')\n",
    "json_filename = f\"{recipe_name}.json\"\n",
    "with open(json_filename, \"w\") as json_file:\n",
    "    json.dump(recipe, json_file, indent=4)\n",
    "\n",
    "print(f\"JSON file '{json_filename}' created successfully!\")"
   ]
  },
  {
   "cell_type": "markdown",
   "id": "8a8b74a0",
   "metadata": {},
   "source": [
    "## Creating shopping list"
   ]
  },
  {
   "cell_type": "code",
   "execution_count": 22,
   "id": "f0b36be5",
   "metadata": {},
   "outputs": [],
   "source": [
    "# Items already in the pantry\n",
    "pantry_list=[\"olive oil\", \"water\" , \"salt\" ,\"pepper\", \"honey\", \"oregano\", \"rosemary\"]\n",
    "recipe_list=[\"gyro\", \"yemista\"]\n"
   ]
  },
  {
   "cell_type": "code",
   "execution_count": 23,
   "id": "dbdec757",
   "metadata": {},
   "outputs": [],
   "source": [
    "def parse_input(user_input: str, match_list: list):  # Yiqian\n",
    "    \"\"\"Takes a string and finds the correct engagement by parsing it.\n",
    "    For example, if I input avdivka it should output ['Avdiivka'].\n",
    "    Args: String engagement_name, list engagement lists.\n",
    "    Output: a list of matched engagement name.\"\"\"\n",
    "\n",
    "    # Initialize cutoff ratio for difflib matching\n",
    "    cf = 0.0\n",
    "\n",
    "    # Get a list of close matches to the user input from the match list\n",
    "    match = difflib.get_close_matches(user_input, match_list, n = 5, cutoff = cf)\n",
    "\n",
    "    # If more than one match is found, incrementally increase the cutoff ratio to narrow down the matches\n",
    "    while len(match) > 1:\n",
    "        cf = cf + 0.01\n",
    "        match = difflib.get_close_matches(user_input, match_list, n = 5, cutoff = cf)\n",
    "\n",
    "    # Return the list of matched engagement names\n",
    "    return match"
   ]
  },
  {
   "cell_type": "code",
   "execution_count": 24,
   "id": "09f447a0",
   "metadata": {},
   "outputs": [],
   "source": [
    "def correct_list(recipe_list,full_recipe_list):\n",
    "    corrected_recipe_list=[]\n",
    "    for item in recipe_list:\n",
    "        corrected_recipe_list.append(parse_input(item, full_recipe_list)[0])\n",
    "    print(f\"The corrected recipe list is {corrected_recipe_list}\")\n",
    "    return corrected_recipe_list\n",
    "    "
   ]
  },
  {
   "cell_type": "code",
   "execution_count": 25,
   "id": "c6be90f5",
   "metadata": {},
   "outputs": [
    {
     "name": "stdout",
     "output_type": "stream",
     "text": [
      "The corrected recipe list is ['gyros_burger', 'greek_stuffed_vegetables_-_gemista']\n"
     ]
    }
   ],
   "source": [
    "\n",
    "full_recipe_list=[\"gyros_burger\", \"greek_stuffed_vegetables_-_gemista\", \"greek_beef_stew_with_hilopites_pasta\"]\n",
    "corrected_recipe_list=correct_list(recipe_list, full_recipe_list)\n"
   ]
  },
  {
   "cell_type": "code",
   "execution_count": 27,
   "id": "d3e38eb9",
   "metadata": {},
   "outputs": [],
   "source": [
    "def create_shopping_list(recipe_list,pantry_list):\n",
    "    shopping_list={}\n",
    "    for recipe in recipe_list:\n",
    "        # Opening JSON file\n",
    "        f = open(f'{recipe}.json')\n",
    "\n",
    "        # returns JSON object as\n",
    "        # a dictionary\n",
    "        data = json.load(f)\n",
    "        for keys in data:\n",
    "            if keys in shopping_list.keys():\n",
    "                shopping_list[keys]=shopping_list[keys]+data[keys]\n",
    "            else:\n",
    "                shopping_list[keys]=data[keys]\n",
    "\n",
    "        # Closing file\n",
    "        f.close()\n",
    "    for item in pantry_list:\n",
    "        for shopping_item in list(shopping_list):\n",
    "            if item in shopping_item:\n",
    "                del shopping_list[shopping_item]\n",
    "    return shopping_list"
   ]
  },
  {
   "cell_type": "code",
   "execution_count": 29,
   "id": "6ee125df",
   "metadata": {},
   "outputs": [
    {
     "name": "stdout",
     "output_type": "stream",
     "text": [
      "olive oil overlap\n",
      "salt overlap\n",
      "pepper overlap\n",
      "granulated sugar overlap\n"
     ]
    }
   ],
   "source": [
    "shopping_list=create_shopping_list(corrected_recipe_list, pantry_list)"
   ]
  },
  {
   "cell_type": "code",
   "execution_count": 30,
   "id": "b93e6a30",
   "metadata": {},
   "outputs": [
    {
     "name": "stdout",
     "output_type": "stream",
     "text": [
      "{'cucumber': 1, 'vinegar': 5, 'granulated sugar': 1.15, 'tenderloin': 0.65, 'onion': 1, 'garlic cloves': 2, 'cheddar slices': 6, 'burger buns': 6, 'strained yogurt': 3, 'tahini': 1, 'baby potatoes': 0.5, 'onions': 3, 'tomatoes': 6, 'round grain rice': 0.35, 'vegetable bouillon cube': 1, 'garlic': 2, 'tomato paste': 1, 'zucchini': 1, 'carrot': 1, 'parsley': 1, 'mint': 1, 'dill': 0.33}\n"
     ]
    }
   ],
   "source": [
    "print(shopping_list)"
   ]
  },
  {
   "cell_type": "code",
   "execution_count": null,
   "id": "af6f6efe",
   "metadata": {},
   "outputs": [],
   "source": []
  },
  {
   "cell_type": "code",
   "execution_count": null,
   "id": "6a4a6fde",
   "metadata": {},
   "outputs": [],
   "source": []
  }
 ],
 "metadata": {
  "kernelspec": {
   "display_name": "Python 3 (ipykernel)",
   "language": "python",
   "name": "python3"
  },
  "language_info": {
   "codemirror_mode": {
    "name": "ipython",
    "version": 3
   },
   "file_extension": ".py",
   "mimetype": "text/x-python",
   "name": "python",
   "nbconvert_exporter": "python",
   "pygments_lexer": "ipython3",
   "version": "3.9.13"
  }
 },
 "nbformat": 4,
 "nbformat_minor": 5
}
